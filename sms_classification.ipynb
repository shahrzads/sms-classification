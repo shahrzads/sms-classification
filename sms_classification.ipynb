{
  "nbformat": 4,
  "nbformat_minor": 0,
  "metadata": {
    "colab": {
      "name": "sms_classification.ipynb",
      "provenance": [],
      "collapsed_sections": [],
      "machine_shape": "hm"
    },
    "kernelspec": {
      "name": "python3",
      "display_name": "Python 3"
    },
    "language_info": {
      "name": "python"
    },
    "accelerator": "GPU",
    "gpuClass": "standard"
  },
  "cells": [
    {
      "cell_type": "code",
      "execution_count": 192,
      "metadata": {
        "id": "i-kvDK8Z51iY"
      },
      "outputs": [],
      "source": [
        "import pandas as pd"
      ]
    },
    {
      "cell_type": "code",
      "source": [
        ""
      ],
      "metadata": {
        "id": "_zx9GrTo6IyL"
      },
      "execution_count": 192,
      "outputs": []
    },
    {
      "cell_type": "markdown",
      "source": [
        "Loading the data as a dataframe, using pandas"
      ],
      "metadata": {
        "id": "1DBlTGwl6Tmj"
      }
    },
    {
      "cell_type": "code",
      "source": [
        "data_path = 'sample_data/SMSSpamCollection'\n",
        "\n",
        "# separating the category and messages\n",
        "df = pd.read_csv(data_path, sep='\\t')\n",
        "\n",
        "# adding headers (i.e., category and message) to the dataframe\n",
        "df.columns = ['category', 'message']"
      ],
      "metadata": {
        "id": "v3rdwqDX6Z_i"
      },
      "execution_count": 193,
      "outputs": []
    },
    {
      "cell_type": "code",
      "source": [
        "df.astype({'message': str, 'category': 'category'})"
      ],
      "metadata": {
        "colab": {
          "base_uri": "https://localhost:8080/",
          "height": 424
        },
        "id": "3_TQJgVy6-HX",
        "outputId": "4470a4e1-c1b9-40a1-8df0-53bd4f2d7357"
      },
      "execution_count": 194,
      "outputs": [
        {
          "output_type": "execute_result",
          "data": {
            "text/plain": [
              "     category                                            message\n",
              "0         ham                      Ok lar... Joking wif u oni...\n",
              "1        spam  Free entry in 2 a wkly comp to win FA Cup fina...\n",
              "2         ham  U dun say so early hor... U c already then say...\n",
              "3         ham  Nah I don't think he goes to usf, he lives aro...\n",
              "4        spam  FreeMsg Hey there darling it's been 3 week's n...\n",
              "...       ...                                                ...\n",
              "5566     spam  This is the 2nd time we have tried 2 contact u...\n",
              "5567      ham               Will ü b going to esplanade fr home?\n",
              "5568      ham  Pity, * was in mood for that. So...any other s...\n",
              "5569      ham  The guy did some bitching but I acted like i'd...\n",
              "5570      ham                         Rofl. Its true to its name\n",
              "\n",
              "[5571 rows x 2 columns]"
            ],
            "text/html": [
              "\n",
              "  <div id=\"df-6a4cc0c3-7ea4-45a5-b2a6-e7d61e8c9ec6\">\n",
              "    <div class=\"colab-df-container\">\n",
              "      <div>\n",
              "<style scoped>\n",
              "    .dataframe tbody tr th:only-of-type {\n",
              "        vertical-align: middle;\n",
              "    }\n",
              "\n",
              "    .dataframe tbody tr th {\n",
              "        vertical-align: top;\n",
              "    }\n",
              "\n",
              "    .dataframe thead th {\n",
              "        text-align: right;\n",
              "    }\n",
              "</style>\n",
              "<table border=\"1\" class=\"dataframe\">\n",
              "  <thead>\n",
              "    <tr style=\"text-align: right;\">\n",
              "      <th></th>\n",
              "      <th>category</th>\n",
              "      <th>message</th>\n",
              "    </tr>\n",
              "  </thead>\n",
              "  <tbody>\n",
              "    <tr>\n",
              "      <th>0</th>\n",
              "      <td>ham</td>\n",
              "      <td>Ok lar... Joking wif u oni...</td>\n",
              "    </tr>\n",
              "    <tr>\n",
              "      <th>1</th>\n",
              "      <td>spam</td>\n",
              "      <td>Free entry in 2 a wkly comp to win FA Cup fina...</td>\n",
              "    </tr>\n",
              "    <tr>\n",
              "      <th>2</th>\n",
              "      <td>ham</td>\n",
              "      <td>U dun say so early hor... U c already then say...</td>\n",
              "    </tr>\n",
              "    <tr>\n",
              "      <th>3</th>\n",
              "      <td>ham</td>\n",
              "      <td>Nah I don't think he goes to usf, he lives aro...</td>\n",
              "    </tr>\n",
              "    <tr>\n",
              "      <th>4</th>\n",
              "      <td>spam</td>\n",
              "      <td>FreeMsg Hey there darling it's been 3 week's n...</td>\n",
              "    </tr>\n",
              "    <tr>\n",
              "      <th>...</th>\n",
              "      <td>...</td>\n",
              "      <td>...</td>\n",
              "    </tr>\n",
              "    <tr>\n",
              "      <th>5566</th>\n",
              "      <td>spam</td>\n",
              "      <td>This is the 2nd time we have tried 2 contact u...</td>\n",
              "    </tr>\n",
              "    <tr>\n",
              "      <th>5567</th>\n",
              "      <td>ham</td>\n",
              "      <td>Will ü b going to esplanade fr home?</td>\n",
              "    </tr>\n",
              "    <tr>\n",
              "      <th>5568</th>\n",
              "      <td>ham</td>\n",
              "      <td>Pity, * was in mood for that. So...any other s...</td>\n",
              "    </tr>\n",
              "    <tr>\n",
              "      <th>5569</th>\n",
              "      <td>ham</td>\n",
              "      <td>The guy did some bitching but I acted like i'd...</td>\n",
              "    </tr>\n",
              "    <tr>\n",
              "      <th>5570</th>\n",
              "      <td>ham</td>\n",
              "      <td>Rofl. Its true to its name</td>\n",
              "    </tr>\n",
              "  </tbody>\n",
              "</table>\n",
              "<p>5571 rows × 2 columns</p>\n",
              "</div>\n",
              "      <button class=\"colab-df-convert\" onclick=\"convertToInteractive('df-6a4cc0c3-7ea4-45a5-b2a6-e7d61e8c9ec6')\"\n",
              "              title=\"Convert this dataframe to an interactive table.\"\n",
              "              style=\"display:none;\">\n",
              "        \n",
              "  <svg xmlns=\"http://www.w3.org/2000/svg\" height=\"24px\"viewBox=\"0 0 24 24\"\n",
              "       width=\"24px\">\n",
              "    <path d=\"M0 0h24v24H0V0z\" fill=\"none\"/>\n",
              "    <path d=\"M18.56 5.44l.94 2.06.94-2.06 2.06-.94-2.06-.94-.94-2.06-.94 2.06-2.06.94zm-11 1L8.5 8.5l.94-2.06 2.06-.94-2.06-.94L8.5 2.5l-.94 2.06-2.06.94zm10 10l.94 2.06.94-2.06 2.06-.94-2.06-.94-.94-2.06-.94 2.06-2.06.94z\"/><path d=\"M17.41 7.96l-1.37-1.37c-.4-.4-.92-.59-1.43-.59-.52 0-1.04.2-1.43.59L10.3 9.45l-7.72 7.72c-.78.78-.78 2.05 0 2.83L4 21.41c.39.39.9.59 1.41.59.51 0 1.02-.2 1.41-.59l7.78-7.78 2.81-2.81c.8-.78.8-2.07 0-2.86zM5.41 20L4 18.59l7.72-7.72 1.47 1.35L5.41 20z\"/>\n",
              "  </svg>\n",
              "      </button>\n",
              "      \n",
              "  <style>\n",
              "    .colab-df-container {\n",
              "      display:flex;\n",
              "      flex-wrap:wrap;\n",
              "      gap: 12px;\n",
              "    }\n",
              "\n",
              "    .colab-df-convert {\n",
              "      background-color: #E8F0FE;\n",
              "      border: none;\n",
              "      border-radius: 50%;\n",
              "      cursor: pointer;\n",
              "      display: none;\n",
              "      fill: #1967D2;\n",
              "      height: 32px;\n",
              "      padding: 0 0 0 0;\n",
              "      width: 32px;\n",
              "    }\n",
              "\n",
              "    .colab-df-convert:hover {\n",
              "      background-color: #E2EBFA;\n",
              "      box-shadow: 0px 1px 2px rgba(60, 64, 67, 0.3), 0px 1px 3px 1px rgba(60, 64, 67, 0.15);\n",
              "      fill: #174EA6;\n",
              "    }\n",
              "\n",
              "    [theme=dark] .colab-df-convert {\n",
              "      background-color: #3B4455;\n",
              "      fill: #D2E3FC;\n",
              "    }\n",
              "\n",
              "    [theme=dark] .colab-df-convert:hover {\n",
              "      background-color: #434B5C;\n",
              "      box-shadow: 0px 1px 3px 1px rgba(0, 0, 0, 0.15);\n",
              "      filter: drop-shadow(0px 1px 2px rgba(0, 0, 0, 0.3));\n",
              "      fill: #FFFFFF;\n",
              "    }\n",
              "  </style>\n",
              "\n",
              "      <script>\n",
              "        const buttonEl =\n",
              "          document.querySelector('#df-6a4cc0c3-7ea4-45a5-b2a6-e7d61e8c9ec6 button.colab-df-convert');\n",
              "        buttonEl.style.display =\n",
              "          google.colab.kernel.accessAllowed ? 'block' : 'none';\n",
              "\n",
              "        async function convertToInteractive(key) {\n",
              "          const element = document.querySelector('#df-6a4cc0c3-7ea4-45a5-b2a6-e7d61e8c9ec6');\n",
              "          const dataTable =\n",
              "            await google.colab.kernel.invokeFunction('convertToInteractive',\n",
              "                                                     [key], {});\n",
              "          if (!dataTable) return;\n",
              "\n",
              "          const docLinkHtml = 'Like what you see? Visit the ' +\n",
              "            '<a target=\"_blank\" href=https://colab.research.google.com/notebooks/data_table.ipynb>data table notebook</a>'\n",
              "            + ' to learn more about interactive tables.';\n",
              "          element.innerHTML = '';\n",
              "          dataTable['output_type'] = 'display_data';\n",
              "          await google.colab.output.renderOutput(dataTable, element);\n",
              "          const docLink = document.createElement('div');\n",
              "          docLink.innerHTML = docLinkHtml;\n",
              "          element.appendChild(docLink);\n",
              "        }\n",
              "      </script>\n",
              "    </div>\n",
              "  </div>\n",
              "  "
            ]
          },
          "metadata": {},
          "execution_count": 194
        }
      ]
    },
    {
      "cell_type": "code",
      "source": [
        ""
      ],
      "metadata": {
        "id": "kMNJPi_m7NI0"
      },
      "execution_count": 194,
      "outputs": []
    },
    {
      "cell_type": "markdown",
      "source": [
        "Exploring the data"
      ],
      "metadata": {
        "id": "_ntGBXSQ7ffe"
      }
    },
    {
      "cell_type": "code",
      "source": [
        "# showing the first 5 samples of the dataset to explore its structure\n",
        "df.head()"
      ],
      "metadata": {
        "colab": {
          "base_uri": "https://localhost:8080/",
          "height": 206
        },
        "id": "GxWiAXk-7iD6",
        "outputId": "a99ebb32-47e3-425b-f66e-d5c52edad18f"
      },
      "execution_count": 195,
      "outputs": [
        {
          "output_type": "execute_result",
          "data": {
            "text/plain": [
              "  category                                            message\n",
              "0      ham                      Ok lar... Joking wif u oni...\n",
              "1     spam  Free entry in 2 a wkly comp to win FA Cup fina...\n",
              "2      ham  U dun say so early hor... U c already then say...\n",
              "3      ham  Nah I don't think he goes to usf, he lives aro...\n",
              "4     spam  FreeMsg Hey there darling it's been 3 week's n..."
            ],
            "text/html": [
              "\n",
              "  <div id=\"df-2b103c4d-05e3-4897-9906-43d77fedf731\">\n",
              "    <div class=\"colab-df-container\">\n",
              "      <div>\n",
              "<style scoped>\n",
              "    .dataframe tbody tr th:only-of-type {\n",
              "        vertical-align: middle;\n",
              "    }\n",
              "\n",
              "    .dataframe tbody tr th {\n",
              "        vertical-align: top;\n",
              "    }\n",
              "\n",
              "    .dataframe thead th {\n",
              "        text-align: right;\n",
              "    }\n",
              "</style>\n",
              "<table border=\"1\" class=\"dataframe\">\n",
              "  <thead>\n",
              "    <tr style=\"text-align: right;\">\n",
              "      <th></th>\n",
              "      <th>category</th>\n",
              "      <th>message</th>\n",
              "    </tr>\n",
              "  </thead>\n",
              "  <tbody>\n",
              "    <tr>\n",
              "      <th>0</th>\n",
              "      <td>ham</td>\n",
              "      <td>Ok lar... Joking wif u oni...</td>\n",
              "    </tr>\n",
              "    <tr>\n",
              "      <th>1</th>\n",
              "      <td>spam</td>\n",
              "      <td>Free entry in 2 a wkly comp to win FA Cup fina...</td>\n",
              "    </tr>\n",
              "    <tr>\n",
              "      <th>2</th>\n",
              "      <td>ham</td>\n",
              "      <td>U dun say so early hor... U c already then say...</td>\n",
              "    </tr>\n",
              "    <tr>\n",
              "      <th>3</th>\n",
              "      <td>ham</td>\n",
              "      <td>Nah I don't think he goes to usf, he lives aro...</td>\n",
              "    </tr>\n",
              "    <tr>\n",
              "      <th>4</th>\n",
              "      <td>spam</td>\n",
              "      <td>FreeMsg Hey there darling it's been 3 week's n...</td>\n",
              "    </tr>\n",
              "  </tbody>\n",
              "</table>\n",
              "</div>\n",
              "      <button class=\"colab-df-convert\" onclick=\"convertToInteractive('df-2b103c4d-05e3-4897-9906-43d77fedf731')\"\n",
              "              title=\"Convert this dataframe to an interactive table.\"\n",
              "              style=\"display:none;\">\n",
              "        \n",
              "  <svg xmlns=\"http://www.w3.org/2000/svg\" height=\"24px\"viewBox=\"0 0 24 24\"\n",
              "       width=\"24px\">\n",
              "    <path d=\"M0 0h24v24H0V0z\" fill=\"none\"/>\n",
              "    <path d=\"M18.56 5.44l.94 2.06.94-2.06 2.06-.94-2.06-.94-.94-2.06-.94 2.06-2.06.94zm-11 1L8.5 8.5l.94-2.06 2.06-.94-2.06-.94L8.5 2.5l-.94 2.06-2.06.94zm10 10l.94 2.06.94-2.06 2.06-.94-2.06-.94-.94-2.06-.94 2.06-2.06.94z\"/><path d=\"M17.41 7.96l-1.37-1.37c-.4-.4-.92-.59-1.43-.59-.52 0-1.04.2-1.43.59L10.3 9.45l-7.72 7.72c-.78.78-.78 2.05 0 2.83L4 21.41c.39.39.9.59 1.41.59.51 0 1.02-.2 1.41-.59l7.78-7.78 2.81-2.81c.8-.78.8-2.07 0-2.86zM5.41 20L4 18.59l7.72-7.72 1.47 1.35L5.41 20z\"/>\n",
              "  </svg>\n",
              "      </button>\n",
              "      \n",
              "  <style>\n",
              "    .colab-df-container {\n",
              "      display:flex;\n",
              "      flex-wrap:wrap;\n",
              "      gap: 12px;\n",
              "    }\n",
              "\n",
              "    .colab-df-convert {\n",
              "      background-color: #E8F0FE;\n",
              "      border: none;\n",
              "      border-radius: 50%;\n",
              "      cursor: pointer;\n",
              "      display: none;\n",
              "      fill: #1967D2;\n",
              "      height: 32px;\n",
              "      padding: 0 0 0 0;\n",
              "      width: 32px;\n",
              "    }\n",
              "\n",
              "    .colab-df-convert:hover {\n",
              "      background-color: #E2EBFA;\n",
              "      box-shadow: 0px 1px 2px rgba(60, 64, 67, 0.3), 0px 1px 3px 1px rgba(60, 64, 67, 0.15);\n",
              "      fill: #174EA6;\n",
              "    }\n",
              "\n",
              "    [theme=dark] .colab-df-convert {\n",
              "      background-color: #3B4455;\n",
              "      fill: #D2E3FC;\n",
              "    }\n",
              "\n",
              "    [theme=dark] .colab-df-convert:hover {\n",
              "      background-color: #434B5C;\n",
              "      box-shadow: 0px 1px 3px 1px rgba(0, 0, 0, 0.15);\n",
              "      filter: drop-shadow(0px 1px 2px rgba(0, 0, 0, 0.3));\n",
              "      fill: #FFFFFF;\n",
              "    }\n",
              "  </style>\n",
              "\n",
              "      <script>\n",
              "        const buttonEl =\n",
              "          document.querySelector('#df-2b103c4d-05e3-4897-9906-43d77fedf731 button.colab-df-convert');\n",
              "        buttonEl.style.display =\n",
              "          google.colab.kernel.accessAllowed ? 'block' : 'none';\n",
              "\n",
              "        async function convertToInteractive(key) {\n",
              "          const element = document.querySelector('#df-2b103c4d-05e3-4897-9906-43d77fedf731');\n",
              "          const dataTable =\n",
              "            await google.colab.kernel.invokeFunction('convertToInteractive',\n",
              "                                                     [key], {});\n",
              "          if (!dataTable) return;\n",
              "\n",
              "          const docLinkHtml = 'Like what you see? Visit the ' +\n",
              "            '<a target=\"_blank\" href=https://colab.research.google.com/notebooks/data_table.ipynb>data table notebook</a>'\n",
              "            + ' to learn more about interactive tables.';\n",
              "          element.innerHTML = '';\n",
              "          dataTable['output_type'] = 'display_data';\n",
              "          await google.colab.output.renderOutput(dataTable, element);\n",
              "          const docLink = document.createElement('div');\n",
              "          docLink.innerHTML = docLinkHtml;\n",
              "          element.appendChild(docLink);\n",
              "        }\n",
              "      </script>\n",
              "    </div>\n",
              "  </div>\n",
              "  "
            ]
          },
          "metadata": {},
          "execution_count": 195
        }
      ]
    },
    {
      "cell_type": "code",
      "source": [
        "# change category labels to numbers (1 for spam, 0 otherwise)\n",
        "change_labels = lambda label: 1 if label == 'spam' else 0"
      ],
      "metadata": {
        "id": "WYckaRGq7kF3"
      },
      "execution_count": 196,
      "outputs": []
    },
    {
      "cell_type": "code",
      "source": [
        "# applying the above function on the dataframe\n",
        "df['category'] = df['category'].apply(change_labels)"
      ],
      "metadata": {
        "id": "i28PkDXB7zfg"
      },
      "execution_count": 197,
      "outputs": []
    },
    {
      "cell_type": "code",
      "source": [
        "# Now, the category column is shown as numbers\n",
        "df.head()"
      ],
      "metadata": {
        "colab": {
          "base_uri": "https://localhost:8080/",
          "height": 206
        },
        "id": "2BVygG4279yH",
        "outputId": "3da5c416-9062-461e-b259-c39036f42848"
      },
      "execution_count": 198,
      "outputs": [
        {
          "output_type": "execute_result",
          "data": {
            "text/plain": [
              "   category                                            message\n",
              "0         0                      Ok lar... Joking wif u oni...\n",
              "1         1  Free entry in 2 a wkly comp to win FA Cup fina...\n",
              "2         0  U dun say so early hor... U c already then say...\n",
              "3         0  Nah I don't think he goes to usf, he lives aro...\n",
              "4         1  FreeMsg Hey there darling it's been 3 week's n..."
            ],
            "text/html": [
              "\n",
              "  <div id=\"df-f6939489-6bbf-48e9-889a-45524af2959e\">\n",
              "    <div class=\"colab-df-container\">\n",
              "      <div>\n",
              "<style scoped>\n",
              "    .dataframe tbody tr th:only-of-type {\n",
              "        vertical-align: middle;\n",
              "    }\n",
              "\n",
              "    .dataframe tbody tr th {\n",
              "        vertical-align: top;\n",
              "    }\n",
              "\n",
              "    .dataframe thead th {\n",
              "        text-align: right;\n",
              "    }\n",
              "</style>\n",
              "<table border=\"1\" class=\"dataframe\">\n",
              "  <thead>\n",
              "    <tr style=\"text-align: right;\">\n",
              "      <th></th>\n",
              "      <th>category</th>\n",
              "      <th>message</th>\n",
              "    </tr>\n",
              "  </thead>\n",
              "  <tbody>\n",
              "    <tr>\n",
              "      <th>0</th>\n",
              "      <td>0</td>\n",
              "      <td>Ok lar... Joking wif u oni...</td>\n",
              "    </tr>\n",
              "    <tr>\n",
              "      <th>1</th>\n",
              "      <td>1</td>\n",
              "      <td>Free entry in 2 a wkly comp to win FA Cup fina...</td>\n",
              "    </tr>\n",
              "    <tr>\n",
              "      <th>2</th>\n",
              "      <td>0</td>\n",
              "      <td>U dun say so early hor... U c already then say...</td>\n",
              "    </tr>\n",
              "    <tr>\n",
              "      <th>3</th>\n",
              "      <td>0</td>\n",
              "      <td>Nah I don't think he goes to usf, he lives aro...</td>\n",
              "    </tr>\n",
              "    <tr>\n",
              "      <th>4</th>\n",
              "      <td>1</td>\n",
              "      <td>FreeMsg Hey there darling it's been 3 week's n...</td>\n",
              "    </tr>\n",
              "  </tbody>\n",
              "</table>\n",
              "</div>\n",
              "      <button class=\"colab-df-convert\" onclick=\"convertToInteractive('df-f6939489-6bbf-48e9-889a-45524af2959e')\"\n",
              "              title=\"Convert this dataframe to an interactive table.\"\n",
              "              style=\"display:none;\">\n",
              "        \n",
              "  <svg xmlns=\"http://www.w3.org/2000/svg\" height=\"24px\"viewBox=\"0 0 24 24\"\n",
              "       width=\"24px\">\n",
              "    <path d=\"M0 0h24v24H0V0z\" fill=\"none\"/>\n",
              "    <path d=\"M18.56 5.44l.94 2.06.94-2.06 2.06-.94-2.06-.94-.94-2.06-.94 2.06-2.06.94zm-11 1L8.5 8.5l.94-2.06 2.06-.94-2.06-.94L8.5 2.5l-.94 2.06-2.06.94zm10 10l.94 2.06.94-2.06 2.06-.94-2.06-.94-.94-2.06-.94 2.06-2.06.94z\"/><path d=\"M17.41 7.96l-1.37-1.37c-.4-.4-.92-.59-1.43-.59-.52 0-1.04.2-1.43.59L10.3 9.45l-7.72 7.72c-.78.78-.78 2.05 0 2.83L4 21.41c.39.39.9.59 1.41.59.51 0 1.02-.2 1.41-.59l7.78-7.78 2.81-2.81c.8-.78.8-2.07 0-2.86zM5.41 20L4 18.59l7.72-7.72 1.47 1.35L5.41 20z\"/>\n",
              "  </svg>\n",
              "      </button>\n",
              "      \n",
              "  <style>\n",
              "    .colab-df-container {\n",
              "      display:flex;\n",
              "      flex-wrap:wrap;\n",
              "      gap: 12px;\n",
              "    }\n",
              "\n",
              "    .colab-df-convert {\n",
              "      background-color: #E8F0FE;\n",
              "      border: none;\n",
              "      border-radius: 50%;\n",
              "      cursor: pointer;\n",
              "      display: none;\n",
              "      fill: #1967D2;\n",
              "      height: 32px;\n",
              "      padding: 0 0 0 0;\n",
              "      width: 32px;\n",
              "    }\n",
              "\n",
              "    .colab-df-convert:hover {\n",
              "      background-color: #E2EBFA;\n",
              "      box-shadow: 0px 1px 2px rgba(60, 64, 67, 0.3), 0px 1px 3px 1px rgba(60, 64, 67, 0.15);\n",
              "      fill: #174EA6;\n",
              "    }\n",
              "\n",
              "    [theme=dark] .colab-df-convert {\n",
              "      background-color: #3B4455;\n",
              "      fill: #D2E3FC;\n",
              "    }\n",
              "\n",
              "    [theme=dark] .colab-df-convert:hover {\n",
              "      background-color: #434B5C;\n",
              "      box-shadow: 0px 1px 3px 1px rgba(0, 0, 0, 0.15);\n",
              "      filter: drop-shadow(0px 1px 2px rgba(0, 0, 0, 0.3));\n",
              "      fill: #FFFFFF;\n",
              "    }\n",
              "  </style>\n",
              "\n",
              "      <script>\n",
              "        const buttonEl =\n",
              "          document.querySelector('#df-f6939489-6bbf-48e9-889a-45524af2959e button.colab-df-convert');\n",
              "        buttonEl.style.display =\n",
              "          google.colab.kernel.accessAllowed ? 'block' : 'none';\n",
              "\n",
              "        async function convertToInteractive(key) {\n",
              "          const element = document.querySelector('#df-f6939489-6bbf-48e9-889a-45524af2959e');\n",
              "          const dataTable =\n",
              "            await google.colab.kernel.invokeFunction('convertToInteractive',\n",
              "                                                     [key], {});\n",
              "          if (!dataTable) return;\n",
              "\n",
              "          const docLinkHtml = 'Like what you see? Visit the ' +\n",
              "            '<a target=\"_blank\" href=https://colab.research.google.com/notebooks/data_table.ipynb>data table notebook</a>'\n",
              "            + ' to learn more about interactive tables.';\n",
              "          element.innerHTML = '';\n",
              "          dataTable['output_type'] = 'display_data';\n",
              "          await google.colab.output.renderOutput(dataTable, element);\n",
              "          const docLink = document.createElement('div');\n",
              "          docLink.innerHTML = docLinkHtml;\n",
              "          element.appendChild(docLink);\n",
              "        }\n",
              "      </script>\n",
              "    </div>\n",
              "  </div>\n",
              "  "
            ]
          },
          "metadata": {},
          "execution_count": 198
        }
      ]
    },
    {
      "cell_type": "code",
      "source": [
        "# check if the data is balanced or imbalanced (group the samples based on their category)\n",
        "df.groupby(['category']).size().plot.bar()"
      ],
      "metadata": {
        "colab": {
          "base_uri": "https://localhost:8080/",
          "height": 295
        },
        "id": "-nVS3gNA8KNp",
        "outputId": "cf9945c5-868f-4d7e-fa9d-362b1fa84e71"
      },
      "execution_count": 199,
      "outputs": [
        {
          "output_type": "execute_result",
          "data": {
            "text/plain": [
              "<matplotlib.axes._subplots.AxesSubplot at 0x7fb6a3cec590>"
            ]
          },
          "metadata": {},
          "execution_count": 199
        },
        {
          "output_type": "display_data",
          "data": {
            "text/plain": [
              "<Figure size 432x288 with 1 Axes>"
            ],
            "image/png": "[encoded data removed]"
          },
          "metadata": {
            "needs_background": "light"
          }
        }
      ]
    },
    {
      "cell_type": "code",
      "source": [
        "# Number of occurrence for each category\n",
        "df.groupby(by=['category']).count()"
      ],
      "metadata": {
        "colab": {
          "base_uri": "https://localhost:8080/",
          "height": 143
        },
        "id": "sIQkiJC18XTC",
        "outputId": "eecbb7b1-3524-46e2-a3ba-921a58b4dbf1"
      },
      "execution_count": 200,
      "outputs": [
        {
          "output_type": "execute_result",
          "data": {
            "text/plain": [
              "          message\n",
              "category         \n",
              "0            4824\n",
              "1             747"
            ],
            "text/html": [
              "\n",
              "  <div id=\"df-0264f524-785a-4669-a8f6-541edee53211\">\n",
              "    <div class=\"colab-df-container\">\n",
              "      <div>\n",
              "<style scoped>\n",
              "    .dataframe tbody tr th:only-of-type {\n",
              "        vertical-align: middle;\n",
              "    }\n",
              "\n",
              "    .dataframe tbody tr th {\n",
              "        vertical-align: top;\n",
              "    }\n",
              "\n",
              "    .dataframe thead th {\n",
              "        text-align: right;\n",
              "    }\n",
              "</style>\n",
              "<table border=\"1\" class=\"dataframe\">\n",
              "  <thead>\n",
              "    <tr style=\"text-align: right;\">\n",
              "      <th></th>\n",
              "      <th>message</th>\n",
              "    </tr>\n",
              "    <tr>\n",
              "      <th>category</th>\n",
              "      <th></th>\n",
              "    </tr>\n",
              "  </thead>\n",
              "  <tbody>\n",
              "    <tr>\n",
              "      <th>0</th>\n",
              "      <td>4824</td>\n",
              "    </tr>\n",
              "    <tr>\n",
              "      <th>1</th>\n",
              "      <td>747</td>\n",
              "    </tr>\n",
              "  </tbody>\n",
              "</table>\n",
              "</div>\n",
              "      <button class=\"colab-df-convert\" onclick=\"convertToInteractive('df-0264f524-785a-4669-a8f6-541edee53211')\"\n",
              "              title=\"Convert this dataframe to an interactive table.\"\n",
              "              style=\"display:none;\">\n",
              "        \n",
              "  <svg xmlns=\"http://www.w3.org/2000/svg\" height=\"24px\"viewBox=\"0 0 24 24\"\n",
              "       width=\"24px\">\n",
              "    <path d=\"M0 0h24v24H0V0z\" fill=\"none\"/>\n",
              "    <path d=\"M18.56 5.44l.94 2.06.94-2.06 2.06-.94-2.06-.94-.94-2.06-.94 2.06-2.06.94zm-11 1L8.5 8.5l.94-2.06 2.06-.94-2.06-.94L8.5 2.5l-.94 2.06-2.06.94zm10 10l.94 2.06.94-2.06 2.06-.94-2.06-.94-.94-2.06-.94 2.06-2.06.94z\"/><path d=\"M17.41 7.96l-1.37-1.37c-.4-.4-.92-.59-1.43-.59-.52 0-1.04.2-1.43.59L10.3 9.45l-7.72 7.72c-.78.78-.78 2.05 0 2.83L4 21.41c.39.39.9.59 1.41.59.51 0 1.02-.2 1.41-.59l7.78-7.78 2.81-2.81c.8-.78.8-2.07 0-2.86zM5.41 20L4 18.59l7.72-7.72 1.47 1.35L5.41 20z\"/>\n",
              "  </svg>\n",
              "      </button>\n",
              "      \n",
              "  <style>\n",
              "    .colab-df-container {\n",
              "      display:flex;\n",
              "      flex-wrap:wrap;\n",
              "      gap: 12px;\n",
              "    }\n",
              "\n",
              "    .colab-df-convert {\n",
              "      background-color: #E8F0FE;\n",
              "      border: none;\n",
              "      border-radius: 50%;\n",
              "      cursor: pointer;\n",
              "      display: none;\n",
              "      fill: #1967D2;\n",
              "      height: 32px;\n",
              "      padding: 0 0 0 0;\n",
              "      width: 32px;\n",
              "    }\n",
              "\n",
              "    .colab-df-convert:hover {\n",
              "      background-color: #E2EBFA;\n",
              "      box-shadow: 0px 1px 2px rgba(60, 64, 67, 0.3), 0px 1px 3px 1px rgba(60, 64, 67, 0.15);\n",
              "      fill: #174EA6;\n",
              "    }\n",
              "\n",
              "    [theme=dark] .colab-df-convert {\n",
              "      background-color: #3B4455;\n",
              "      fill: #D2E3FC;\n",
              "    }\n",
              "\n",
              "    [theme=dark] .colab-df-convert:hover {\n",
              "      background-color: #434B5C;\n",
              "      box-shadow: 0px 1px 3px 1px rgba(0, 0, 0, 0.15);\n",
              "      filter: drop-shadow(0px 1px 2px rgba(0, 0, 0, 0.3));\n",
              "      fill: #FFFFFF;\n",
              "    }\n",
              "  </style>\n",
              "\n",
              "      <script>\n",
              "        const buttonEl =\n",
              "          document.querySelector('#df-0264f524-785a-4669-a8f6-541edee53211 button.colab-df-convert');\n",
              "        buttonEl.style.display =\n",
              "          google.colab.kernel.accessAllowed ? 'block' : 'none';\n",
              "\n",
              "        async function convertToInteractive(key) {\n",
              "          const element = document.querySelector('#df-0264f524-785a-4669-a8f6-541edee53211');\n",
              "          const dataTable =\n",
              "            await google.colab.kernel.invokeFunction('convertToInteractive',\n",
              "                                                     [key], {});\n",
              "          if (!dataTable) return;\n",
              "\n",
              "          const docLinkHtml = 'Like what you see? Visit the ' +\n",
              "            '<a target=\"_blank\" href=https://colab.research.google.com/notebooks/data_table.ipynb>data table notebook</a>'\n",
              "            + ' to learn more about interactive tables.';\n",
              "          element.innerHTML = '';\n",
              "          dataTable['output_type'] = 'display_data';\n",
              "          await google.colab.output.renderOutput(dataTable, element);\n",
              "          const docLink = document.createElement('div');\n",
              "          docLink.innerHTML = docLinkHtml;\n",
              "          element.appendChild(docLink);\n",
              "        }\n",
              "      </script>\n",
              "    </div>\n",
              "  </div>\n",
              "  "
            ]
          },
          "metadata": {},
          "execution_count": 200
        }
      ]
    },
    {
      "cell_type": "code",
      "source": [
        ""
      ],
      "metadata": {
        "id": "yp3Ohd8z8fxp"
      },
      "execution_count": 200,
      "outputs": []
    },
    {
      "cell_type": "markdown",
      "source": [
        "The data is imbalanced, so we will do oversampling to make it balanced"
      ],
      "metadata": {
        "id": "u_IBfaG18mLi"
      }
    },
    {
      "cell_type": "code",
      "source": [
        "# find maximum number of samples that the major category has\n",
        "max_size = df['category'].value_counts().max()\n",
        "print(max_size)"
      ],
      "metadata": {
        "colab": {
          "base_uri": "https://localhost:8080/"
        },
        "id": "KqjBymZR830n",
        "outputId": "1b9accf3-1ecd-41a9-bc99-e9c711ef695b"
      },
      "execution_count": 201,
      "outputs": [
        {
          "output_type": "stream",
          "name": "stdout",
          "text": [
            "4824\n"
          ]
        }
      ]
    },
    {
      "cell_type": "code",
      "source": [
        ""
      ],
      "metadata": {
        "id": "lSxRwQSd9DA_"
      },
      "execution_count": 201,
      "outputs": []
    },
    {
      "cell_type": "markdown",
      "source": [
        "Oversampling (to balance the dataset)"
      ],
      "metadata": {
        "id": "8QwFe9f79HHq"
      }
    },
    {
      "cell_type": "code",
      "source": [
        "# increase the number of the minor class by sampling with replacement to have the same number as of the major category\n",
        "oversample = [df]\n",
        "# for all the existing categories\n",
        "for category_idx, category in df.groupby(['category']):\n",
        "    # count the number of samples needed to get the exact number of samples equal to the major category\n",
        "    # sample that number from the current category, with replacement\n",
        "    oversample.append(category.sample(max_size - len(category), replace = True))\n",
        "# add the new samples to the original dataset\n",
        "oversample_df = pd.concat(oversample)"
      ],
      "metadata": {
        "id": "tq_Qt4dd9KIZ"
      },
      "execution_count": 202,
      "outputs": []
    },
    {
      "cell_type": "code",
      "source": [
        "# again, check the number of occurrence for each category\n",
        "oversample_df.groupby(by=['category']).count()"
      ],
      "metadata": {
        "colab": {
          "base_uri": "https://localhost:8080/",
          "height": 143
        },
        "id": "dNFGIn_U9OiV",
        "outputId": "75ab64b2-2c65-4a0b-ecfd-32176ef86773"
      },
      "execution_count": 203,
      "outputs": [
        {
          "output_type": "execute_result",
          "data": {
            "text/plain": [
              "          message\n",
              "category         \n",
              "0            4824\n",
              "1            4824"
            ],
            "text/html": [
              "\n",
              "  <div id=\"df-306c31bf-532d-4e57-a8d0-8c5c40d4c4a0\">\n",
              "    <div class=\"colab-df-container\">\n",
              "      <div>\n",
              "<style scoped>\n",
              "    .dataframe tbody tr th:only-of-type {\n",
              "        vertical-align: middle;\n",
              "    }\n",
              "\n",
              "    .dataframe tbody tr th {\n",
              "        vertical-align: top;\n",
              "    }\n",
              "\n",
              "    .dataframe thead th {\n",
              "        text-align: right;\n",
              "    }\n",
              "</style>\n",
              "<table border=\"1\" class=\"dataframe\">\n",
              "  <thead>\n",
              "    <tr style=\"text-align: right;\">\n",
              "      <th></th>\n",
              "      <th>message</th>\n",
              "    </tr>\n",
              "    <tr>\n",
              "      <th>category</th>\n",
              "      <th></th>\n",
              "    </tr>\n",
              "  </thead>\n",
              "  <tbody>\n",
              "    <tr>\n",
              "      <th>0</th>\n",
              "      <td>4824</td>\n",
              "    </tr>\n",
              "    <tr>\n",
              "      <th>1</th>\n",
              "      <td>4824</td>\n",
              "    </tr>\n",
              "  </tbody>\n",
              "</table>\n",
              "</div>\n",
              "      <button class=\"colab-df-convert\" onclick=\"convertToInteractive('df-306c31bf-532d-4e57-a8d0-8c5c40d4c4a0')\"\n",
              "              title=\"Convert this dataframe to an interactive table.\"\n",
              "              style=\"display:none;\">\n",
              "        \n",
              "  <svg xmlns=\"http://www.w3.org/2000/svg\" height=\"24px\"viewBox=\"0 0 24 24\"\n",
              "       width=\"24px\">\n",
              "    <path d=\"M0 0h24v24H0V0z\" fill=\"none\"/>\n",
              "    <path d=\"M18.56 5.44l.94 2.06.94-2.06 2.06-.94-2.06-.94-.94-2.06-.94 2.06-2.06.94zm-11 1L8.5 8.5l.94-2.06 2.06-.94-2.06-.94L8.5 2.5l-.94 2.06-2.06.94zm10 10l.94 2.06.94-2.06 2.06-.94-2.06-.94-.94-2.06-.94 2.06-2.06.94z\"/><path d=\"M17.41 7.96l-1.37-1.37c-.4-.4-.92-.59-1.43-.59-.52 0-1.04.2-1.43.59L10.3 9.45l-7.72 7.72c-.78.78-.78 2.05 0 2.83L4 21.41c.39.39.9.59 1.41.59.51 0 1.02-.2 1.41-.59l7.78-7.78 2.81-2.81c.8-.78.8-2.07 0-2.86zM5.41 20L4 18.59l7.72-7.72 1.47 1.35L5.41 20z\"/>\n",
              "  </svg>\n",
              "      </button>\n",
              "      \n",
              "  <style>\n",
              "    .colab-df-container {\n",
              "      display:flex;\n",
              "      flex-wrap:wrap;\n",
              "      gap: 12px;\n",
              "    }\n",
              "\n",
              "    .colab-df-convert {\n",
              "      background-color: #E8F0FE;\n",
              "      border: none;\n",
              "      border-radius: 50%;\n",
              "      cursor: pointer;\n",
              "      display: none;\n",
              "      fill: #1967D2;\n",
              "      height: 32px;\n",
              "      padding: 0 0 0 0;\n",
              "      width: 32px;\n",
              "    }\n",
              "\n",
              "    .colab-df-convert:hover {\n",
              "      background-color: #E2EBFA;\n",
              "      box-shadow: 0px 1px 2px rgba(60, 64, 67, 0.3), 0px 1px 3px 1px rgba(60, 64, 67, 0.15);\n",
              "      fill: #174EA6;\n",
              "    }\n",
              "\n",
              "    [theme=dark] .colab-df-convert {\n",
              "      background-color: #3B4455;\n",
              "      fill: #D2E3FC;\n",
              "    }\n",
              "\n",
              "    [theme=dark] .colab-df-convert:hover {\n",
              "      background-color: #434B5C;\n",
              "      box-shadow: 0px 1px 3px 1px rgba(0, 0, 0, 0.15);\n",
              "      filter: drop-shadow(0px 1px 2px rgba(0, 0, 0, 0.3));\n",
              "      fill: #FFFFFF;\n",
              "    }\n",
              "  </style>\n",
              "\n",
              "      <script>\n",
              "        const buttonEl =\n",
              "          document.querySelector('#df-306c31bf-532d-4e57-a8d0-8c5c40d4c4a0 button.colab-df-convert');\n",
              "        buttonEl.style.display =\n",
              "          google.colab.kernel.accessAllowed ? 'block' : 'none';\n",
              "\n",
              "        async function convertToInteractive(key) {\n",
              "          const element = document.querySelector('#df-306c31bf-532d-4e57-a8d0-8c5c40d4c4a0');\n",
              "          const dataTable =\n",
              "            await google.colab.kernel.invokeFunction('convertToInteractive',\n",
              "                                                     [key], {});\n",
              "          if (!dataTable) return;\n",
              "\n",
              "          const docLinkHtml = 'Like what you see? Visit the ' +\n",
              "            '<a target=\"_blank\" href=https://colab.research.google.com/notebooks/data_table.ipynb>data table notebook</a>'\n",
              "            + ' to learn more about interactive tables.';\n",
              "          element.innerHTML = '';\n",
              "          dataTable['output_type'] = 'display_data';\n",
              "          await google.colab.output.renderOutput(dataTable, element);\n",
              "          const docLink = document.createElement('div');\n",
              "          docLink.innerHTML = docLinkHtml;\n",
              "          element.appendChild(docLink);\n",
              "        }\n",
              "      </script>\n",
              "    </div>\n",
              "  </div>\n",
              "  "
            ]
          },
          "metadata": {},
          "execution_count": 203
        }
      ]
    },
    {
      "cell_type": "code",
      "source": [
        ""
      ],
      "metadata": {
        "id": "_lp-aecJ9Yjb"
      },
      "execution_count": 203,
      "outputs": []
    },
    {
      "cell_type": "markdown",
      "source": [
        "The resulting dataset is balanced now \n",
        "**Result: the number of spam and non-spam messages match**"
      ],
      "metadata": {
        "id": "MPzee5F89bCY"
      }
    },
    {
      "cell_type": "code",
      "source": [
        ""
      ],
      "metadata": {
        "id": "gEuX1Lj59fYp"
      },
      "execution_count": 203,
      "outputs": []
    },
    {
      "cell_type": "markdown",
      "source": [
        "Data pre-processing\n",
        "* stemming\n",
        "* lemmatizing"
      ],
      "metadata": {
        "id": "lm6ow2yD-BxS"
      }
    },
    {
      "cell_type": "code",
      "source": [
        "import nltk\n",
        "from nltk import PorterStemmer\n",
        "from nltk import WordNetLemmatizer\n",
        "nltk.download('wordnet')\n",
        "nltk.download('omw-1.4')"
      ],
      "metadata": {
        "colab": {
          "base_uri": "https://localhost:8080/"
        },
        "id": "qVsv66VW-JU2",
        "outputId": "de1ce5c8-7af3-4715-b639-0449fa36f72e"
      },
      "execution_count": 204,
      "outputs": [
        {
          "output_type": "stream",
          "name": "stderr",
          "text": [
            "[nltk_data] Downloading package wordnet to /root/nltk_data...\n",
            "[nltk_data]   Package wordnet is already up-to-date!\n",
            "[nltk_data] Downloading package omw-1.4 to /root/nltk_data...\n",
            "[nltk_data]   Package omw-1.4 is already up-to-date!\n"
          ]
        },
        {
          "output_type": "execute_result",
          "data": {
            "text/plain": [
              "True"
            ]
          },
          "metadata": {},
          "execution_count": 204
        }
      ]
    },
    {
      "cell_type": "code",
      "source": [
        "# stemming\n",
        "porter_stemmer = PorterStemmer()\n",
        "stem = lambda message: [porter_stemmer.stem(word) for word in message.split()]"
      ],
      "metadata": {
        "id": "smGKJnOF-QpH"
      },
      "execution_count": 205,
      "outputs": []
    },
    {
      "cell_type": "code",
      "source": [
        "# lemmatizing\n",
        "word_net_lemmatizer = WordNetLemmatizer()\n",
        "lemmatizer = lambda message: [word_net_lemmatizer.lemmatize(word) for word in message]"
      ],
      "metadata": {
        "id": "-b1iGpDN-XPW"
      },
      "execution_count": 206,
      "outputs": []
    },
    {
      "cell_type": "code",
      "source": [
        "# applying stemming and lemmatizing to preprocess the data\n",
        "print('processing srarted')\n",
        "oversample_df['message'] = oversample_df['message'].apply(stem)\n",
        "oversample_df['message'] = oversample_df['message'].apply(lemmatizer)\n",
        "oversample_df['message'] = oversample_df['message'].apply(lambda message: ' '.join(message))\n",
        "print('preprocessing completed')"
      ],
      "metadata": {
        "colab": {
          "base_uri": "https://localhost:8080/"
        },
        "id": "YhRZpyY6-dMH",
        "outputId": "0d638bd5-8858-4186-f670-d9f7013928ea"
      },
      "execution_count": 207,
      "outputs": [
        {
          "output_type": "stream",
          "name": "stdout",
          "text": [
            "processing srarted\n",
            "preprocessing completed\n"
          ]
        }
      ]
    },
    {
      "cell_type": "code",
      "source": [
        "oversample_df.head()"
      ],
      "metadata": {
        "colab": {
          "base_uri": "https://localhost:8080/",
          "height": 206
        },
        "id": "2CC7QL23-r1U",
        "outputId": "1a850926-5f73-46bb-e91a-5337c26d740f"
      },
      "execution_count": 208,
      "outputs": [
        {
          "output_type": "execute_result",
          "data": {
            "text/plain": [
              "   category                                            message\n",
              "0         0                        ok lar... joke wif u oni...\n",
              "1         1  free entri in 2 a wkli comp to win fa cup fina...\n",
              "2         0  u dun say so earli hor... u c alreadi then say...\n",
              "3         0  nah i don't think he goe to usf, he live aroun...\n",
              "4         1  freemsg hey there darl it' been 3 week' now an..."
            ],
            "text/html": [
              "\n",
              "  <div id=\"df-bebdf051-0c20-455b-80e6-59c073aaa086\">\n",
              "    <div class=\"colab-df-container\">\n",
              "      <div>\n",
              "<style scoped>\n",
              "    .dataframe tbody tr th:only-of-type {\n",
              "        vertical-align: middle;\n",
              "    }\n",
              "\n",
              "    .dataframe tbody tr th {\n",
              "        vertical-align: top;\n",
              "    }\n",
              "\n",
              "    .dataframe thead th {\n",
              "        text-align: right;\n",
              "    }\n",
              "</style>\n",
              "<table border=\"1\" class=\"dataframe\">\n",
              "  <thead>\n",
              "    <tr style=\"text-align: right;\">\n",
              "      <th></th>\n",
              "      <th>category</th>\n",
              "      <th>message</th>\n",
              "    </tr>\n",
              "  </thead>\n",
              "  <tbody>\n",
              "    <tr>\n",
              "      <th>0</th>\n",
              "      <td>0</td>\n",
              "      <td>ok lar... joke wif u oni...</td>\n",
              "    </tr>\n",
              "    <tr>\n",
              "      <th>1</th>\n",
              "      <td>1</td>\n",
              "      <td>free entri in 2 a wkli comp to win fa cup fina...</td>\n",
              "    </tr>\n",
              "    <tr>\n",
              "      <th>2</th>\n",
              "      <td>0</td>\n",
              "      <td>u dun say so earli hor... u c alreadi then say...</td>\n",
              "    </tr>\n",
              "    <tr>\n",
              "      <th>3</th>\n",
              "      <td>0</td>\n",
              "      <td>nah i don't think he goe to usf, he live aroun...</td>\n",
              "    </tr>\n",
              "    <tr>\n",
              "      <th>4</th>\n",
              "      <td>1</td>\n",
              "      <td>freemsg hey there darl it' been 3 week' now an...</td>\n",
              "    </tr>\n",
              "  </tbody>\n",
              "</table>\n",
              "</div>\n",
              "      <button class=\"colab-df-convert\" onclick=\"convertToInteractive('df-bebdf051-0c20-455b-80e6-59c073aaa086')\"\n",
              "              title=\"Convert this dataframe to an interactive table.\"\n",
              "              style=\"display:none;\">\n",
              "        \n",
              "  <svg xmlns=\"http://www.w3.org/2000/svg\" height=\"24px\"viewBox=\"0 0 24 24\"\n",
              "       width=\"24px\">\n",
              "    <path d=\"M0 0h24v24H0V0z\" fill=\"none\"/>\n",
              "    <path d=\"M18.56 5.44l.94 2.06.94-2.06 2.06-.94-2.06-.94-.94-2.06-.94 2.06-2.06.94zm-11 1L8.5 8.5l.94-2.06 2.06-.94-2.06-.94L8.5 2.5l-.94 2.06-2.06.94zm10 10l.94 2.06.94-2.06 2.06-.94-2.06-.94-.94-2.06-.94 2.06-2.06.94z\"/><path d=\"M17.41 7.96l-1.37-1.37c-.4-.4-.92-.59-1.43-.59-.52 0-1.04.2-1.43.59L10.3 9.45l-7.72 7.72c-.78.78-.78 2.05 0 2.83L4 21.41c.39.39.9.59 1.41.59.51 0 1.02-.2 1.41-.59l7.78-7.78 2.81-2.81c.8-.78.8-2.07 0-2.86zM5.41 20L4 18.59l7.72-7.72 1.47 1.35L5.41 20z\"/>\n",
              "  </svg>\n",
              "      </button>\n",
              "      \n",
              "  <style>\n",
              "    .colab-df-container {\n",
              "      display:flex;\n",
              "      flex-wrap:wrap;\n",
              "      gap: 12px;\n",
              "    }\n",
              "\n",
              "    .colab-df-convert {\n",
              "      background-color: #E8F0FE;\n",
              "      border: none;\n",
              "      border-radius: 50%;\n",
              "      cursor: pointer;\n",
              "      display: none;\n",
              "      fill: #1967D2;\n",
              "      height: 32px;\n",
              "      padding: 0 0 0 0;\n",
              "      width: 32px;\n",
              "    }\n",
              "\n",
              "    .colab-df-convert:hover {\n",
              "      background-color: #E2EBFA;\n",
              "      box-shadow: 0px 1px 2px rgba(60, 64, 67, 0.3), 0px 1px 3px 1px rgba(60, 64, 67, 0.15);\n",
              "      fill: #174EA6;\n",
              "    }\n",
              "\n",
              "    [theme=dark] .colab-df-convert {\n",
              "      background-color: #3B4455;\n",
              "      fill: #D2E3FC;\n",
              "    }\n",
              "\n",
              "    [theme=dark] .colab-df-convert:hover {\n",
              "      background-color: #434B5C;\n",
              "      box-shadow: 0px 1px 3px 1px rgba(0, 0, 0, 0.15);\n",
              "      filter: drop-shadow(0px 1px 2px rgba(0, 0, 0, 0.3));\n",
              "      fill: #FFFFFF;\n",
              "    }\n",
              "  </style>\n",
              "\n",
              "      <script>\n",
              "        const buttonEl =\n",
              "          document.querySelector('#df-bebdf051-0c20-455b-80e6-59c073aaa086 button.colab-df-convert');\n",
              "        buttonEl.style.display =\n",
              "          google.colab.kernel.accessAllowed ? 'block' : 'none';\n",
              "\n",
              "        async function convertToInteractive(key) {\n",
              "          const element = document.querySelector('#df-bebdf051-0c20-455b-80e6-59c073aaa086');\n",
              "          const dataTable =\n",
              "            await google.colab.kernel.invokeFunction('convertToInteractive',\n",
              "                                                     [key], {});\n",
              "          if (!dataTable) return;\n",
              "\n",
              "          const docLinkHtml = 'Like what you see? Visit the ' +\n",
              "            '<a target=\"_blank\" href=https://colab.research.google.com/notebooks/data_table.ipynb>data table notebook</a>'\n",
              "            + ' to learn more about interactive tables.';\n",
              "          element.innerHTML = '';\n",
              "          dataTable['output_type'] = 'display_data';\n",
              "          await google.colab.output.renderOutput(dataTable, element);\n",
              "          const docLink = document.createElement('div');\n",
              "          docLink.innerHTML = docLinkHtml;\n",
              "          element.appendChild(docLink);\n",
              "        }\n",
              "      </script>\n",
              "    </div>\n",
              "  </div>\n",
              "  "
            ]
          },
          "metadata": {},
          "execution_count": 208
        }
      ]
    },
    {
      "cell_type": "code",
      "source": [
        "!pip install transformers"
      ],
      "metadata": {
        "colab": {
          "base_uri": "https://localhost:8080/"
        },
        "id": "WVWSnH8e-wRs",
        "outputId": "890bf109-1cc2-4d15-b59e-5be8efdd330c"
      },
      "execution_count": 209,
      "outputs": [
        {
          "output_type": "stream",
          "name": "stdout",
          "text": [
            "Looking in indexes: https://pypi.org/simple, https://us-python.pkg.dev/colab-wheels/public/simple/\n",
            "Requirement already satisfied: transformers in /usr/local/lib/python3.7/dist-packages (4.20.1)\n",
            "Requirement already satisfied: tokenizers!=0.11.3,<0.13,>=0.11.1 in /usr/local/lib/python3.7/dist-packages (from transformers) (0.12.1)\n",
            "Requirement already satisfied: requests in /usr/local/lib/python3.7/dist-packages (from transformers) (2.23.0)\n",
            "Requirement already satisfied: importlib-metadata in /usr/local/lib/python3.7/dist-packages (from transformers) (4.12.0)\n",
            "Requirement already satisfied: pyyaml>=5.1 in /usr/local/lib/python3.7/dist-packages (from transformers) (6.0)\n",
            "Requirement already satisfied: huggingface-hub<1.0,>=0.1.0 in /usr/local/lib/python3.7/dist-packages (from transformers) (0.8.1)\n",
            "Requirement already satisfied: packaging>=20.0 in /usr/local/lib/python3.7/dist-packages (from transformers) (21.3)\n",
            "Requirement already satisfied: tqdm>=4.27 in /usr/local/lib/python3.7/dist-packages (from transformers) (4.64.0)\n",
            "Requirement already satisfied: filelock in /usr/local/lib/python3.7/dist-packages (from transformers) (3.7.1)\n",
            "Requirement already satisfied: numpy>=1.17 in /usr/local/lib/python3.7/dist-packages (from transformers) (1.21.6)\n",
            "Requirement already satisfied: regex!=2019.12.17 in /usr/local/lib/python3.7/dist-packages (from transformers) (2022.6.2)\n",
            "Requirement already satisfied: typing-extensions>=3.7.4.3 in /usr/local/lib/python3.7/dist-packages (from huggingface-hub<1.0,>=0.1.0->transformers) (4.1.1)\n",
            "Requirement already satisfied: pyparsing!=3.0.5,>=2.0.2 in /usr/local/lib/python3.7/dist-packages (from packaging>=20.0->transformers) (3.0.9)\n",
            "Requirement already satisfied: zipp>=0.5 in /usr/local/lib/python3.7/dist-packages (from importlib-metadata->transformers) (3.8.0)\n",
            "Requirement already satisfied: urllib3!=1.25.0,!=1.25.1,<1.26,>=1.21.1 in /usr/local/lib/python3.7/dist-packages (from requests->transformers) (1.24.3)\n",
            "Requirement already satisfied: idna<3,>=2.5 in /usr/local/lib/python3.7/dist-packages (from requests->transformers) (2.10)\n",
            "Requirement already satisfied: certifi>=2017.4.17 in /usr/local/lib/python3.7/dist-packages (from requests->transformers) (2022.6.15)\n",
            "Requirement already satisfied: chardet<4,>=3.0.2 in /usr/local/lib/python3.7/dist-packages (from requests->transformers) (3.0.4)\n"
          ]
        }
      ]
    },
    {
      "cell_type": "code",
      "source": [
        "from transformers import BertTokenizer"
      ],
      "metadata": {
        "id": "spXzrmPY-1at"
      },
      "execution_count": 210,
      "outputs": []
    },
    {
      "cell_type": "code",
      "source": [
        "# store the dataset as samples (i.e., preprocessed samples that are tokenized with pre-trained BERT) and their corresponding labels\n",
        "import torch\n",
        "import numpy as np\n",
        "from transformers import BertTokenizer\n",
        "\n",
        "torch.cuda.empty_cache()\n",
        "\n",
        "# tokenizes the sentence from pre-trained model BERT\n",
        "tokenizer = BertTokenizer.from_pretrained('bert-base-cased')\n",
        "\n",
        "class dataset(torch.utils.data.Dataset):\n",
        "    def __init__(self, df):\n",
        "        # tokenize the pre-processed messages in the dataframe, following the specified parameters\n",
        "        self.messages = [tokenizer(message, padding = 'max_length', max_length = 512, truncation = True,\n",
        "                                   return_tensors = \"pt\") for message in df['message']]\n",
        "        # retrieve the labels of the categories\n",
        "        self.labels = [label for label in df['category']]\n",
        "        \n",
        "    def __len__(self):\n",
        "        # number of samples in the dataset\n",
        "        return len(self.labels)\n",
        "    \n",
        "    def count_spam(self):\n",
        "        # count the total number of spam messages in the dataset\n",
        "        return sum(self.labels)\n",
        "        \n",
        "    def get_batch_messages(self, idx):\n",
        "        # batch of input messages\n",
        "        return self.messages[idx]\n",
        "    \n",
        "    def get_batch_labels(self, idx):\n",
        "        # batch of labels\n",
        "        return self.labels[idx]\n",
        "        \n",
        "    def __getitem__(self, idx):\n",
        "        batch_messages = self.get_batch_messages(idx)\n",
        "        batch_labels = self.get_batch_labels(idx)\n",
        "        \n",
        "        # messages and their corresponding labels in the current batch\n",
        "        return batch_messages, batch_labels\n",
        "        "
      ],
      "metadata": {
        "id": "A02R68Dn_DwU"
      },
      "execution_count": 211,
      "outputs": []
    },
    {
      "cell_type": "code",
      "source": [
        ""
      ],
      "metadata": {
        "id": "o7_29VIAB-xA"
      },
      "execution_count": 211,
      "outputs": []
    },
    {
      "cell_type": "markdown",
      "source": [
        "Split dataset into training, validation, and test set (i.e., 80, 10, 10, respectively)"
      ],
      "metadata": {
        "id": "kI-DDkSpCKTu"
      }
    },
    {
      "cell_type": "code",
      "source": [
        "# to split the dataset to train/dev/test\n",
        "from sklearn.model_selection import train_test_split"
      ],
      "metadata": {
        "id": "Q-FU_J0oCPGX"
      },
      "execution_count": 212,
      "outputs": []
    },
    {
      "cell_type": "code",
      "source": [
        "# shuffle the dataframe\n",
        "oversample_df = oversample_df.sample(frac=1, random_state=42)"
      ],
      "metadata": {
        "id": "DfuBXP8vCXrB"
      },
      "execution_count": 213,
      "outputs": []
    },
    {
      "cell_type": "code",
      "source": [
        "# splitting step\n",
        "df_train, _df_val_test = train_test_split(oversample_df, test_size=0.1, random_state=42)\n",
        "df_val, df_test = train_test_split(_df_val_test, test_size=0.5, random_state=42)"
      ],
      "metadata": {
        "id": "NZzTJ5_ZCbki"
      },
      "execution_count": 214,
      "outputs": []
    },
    {
      "cell_type": "code",
      "source": [
        "print('train_size: ', len(df_train), ', val_size: ', len(df_val), ', test_size: ', len(df_test))"
      ],
      "metadata": {
        "colab": {
          "base_uri": "https://localhost:8080/"
        },
        "id": "nwzTHWzYChqt",
        "outputId": "2a86f275-a91e-4882-97c9-aa0eb40a9cba"
      },
      "execution_count": 215,
      "outputs": [
        {
          "output_type": "stream",
          "name": "stdout",
          "text": [
            "train_size:  8683 , val_size:  482 , test_size:  483\n"
          ]
        }
      ]
    },
    {
      "cell_type": "code",
      "source": [
        ""
      ],
      "metadata": {
        "id": "gvqJ2hgECkNW"
      },
      "execution_count": 215,
      "outputs": []
    },
    {
      "cell_type": "markdown",
      "source": [
        "Building the network model"
      ],
      "metadata": {
        "id": "Ux7x1B8AC1_c"
      }
    },
    {
      "cell_type": "code",
      "source": [
        "from torch import nn\n",
        "from transformers import BertModel\n",
        "\n",
        "class binary_classifier(nn.Module):\n",
        "    def __init__(self, dropout=0.5):\n",
        "        super(binary_classifier, self).__init__()\n",
        "        \n",
        "        # pre-trained BERT model (12 layers Transformer encoder)\n",
        "        self.bert = BertModel.from_pretrained('bert-base-cased')\n",
        "        # dropout layer (for regularization)\n",
        "        self.dropout = nn.Dropout(dropout)\n",
        "        # linear layer for the last layer, vector of size 1 is used because the task is a binary classification\n",
        "        self.linear = nn.Linear(768, 1)\n",
        "        # relu activation\n",
        "        self.relu = nn.ReLU()\n",
        "        \n",
        "    def forward(self, input_id, attention_mask):\n",
        "        # all_output: embedding vectors for all the tokens in a sentence\n",
        "        # cls_output: embedding vector of [cls] token (used as the input to the classifier)\n",
        "        all_output, cls_output = self.bert(input_ids = input_id, attention_mask = attention_mask, return_dict = False)\n",
        "        # dropout layer\n",
        "        output = self.dropout(cls_output)\n",
        "        # linear layer\n",
        "        output = self.linear(output)\n",
        "        # relu function\n",
        "        output = self.relu(output)\n",
        "        \n",
        "        return output\n",
        "        "
      ],
      "metadata": {
        "id": "aoULT1S2C3vQ"
      },
      "execution_count": 216,
      "outputs": []
    },
    {
      "cell_type": "code",
      "source": [
        ""
      ],
      "metadata": {
        "id": "hqVYaVCoGeH6"
      },
      "execution_count": 216,
      "outputs": []
    },
    {
      "cell_type": "markdown",
      "source": [
        "Trianing the model"
      ],
      "metadata": {
        "id": "kQvDLbNiGiOT"
      }
    },
    {
      "cell_type": "code",
      "source": [
        "# function to compute the accuracy of the model\n",
        "def binary_accuracy(pred, actual_label):\n",
        "    # apply sigmoid function on the output of the network to get the exact label\n",
        "    pred_label = torch.round(torch.sigmoid(pred))\n",
        "    \n",
        "    # compare the predicted and the actual labels together to find True Positive and True Negative\n",
        "    # count the ones that match\n",
        "    accuracy = (pred_label == actual_label).sum().float()\n",
        "    \n",
        "    return accuracy\n"
      ],
      "metadata": {
        "id": "6wIzXkCeG_Gd"
      },
      "execution_count": 217,
      "outputs": []
    },
    {
      "cell_type": "code",
      "source": [
        "from torch.utils import data\n",
        "from torch.optim import Adam\n",
        "\n",
        "def train(model, train_data, val_data, learning_rate, n_epochs):\n",
        "    # change the dataframe to the desired dataet format\n",
        "    train_data = dataset(train_data)\n",
        "    val_data = dataset(val_data)\n",
        "    \n",
        "    # iterate over the dataset\n",
        "    train_dataloader = data.DataLoader(train_data, batch_size=8, shuffle=True)\n",
        "    val_dataloader = data.DataLoader(val_data, batch_size=8)\n",
        "    \n",
        "    # GPU/CPU usage based on its availability\n",
        "    device = torch.device('cuda' if torch.cuda.is_available() else 'cpu')\n",
        "    \n",
        "    # binary classification cross entropy loss (including a sigmoid layer)\n",
        "    criterion = nn.BCEWithLogitsLoss()\n",
        "    # adam optimizer (momentum)\n",
        "    optimizer = Adam(model.parameters(), lr=learning_rate)\n",
        "    \n",
        "    # if GPU is available use it for the model and loss part\n",
        "    if torch.cuda.is_available():\n",
        "        model = model.cuda()\n",
        "        criterion = criterion.cuda()\n",
        "        \n",
        "\n",
        "    # store the train/val loss and accuracy for each epoch\n",
        "    train_loss = []\n",
        "    train_accuracy = []\n",
        "    val_loss = []\n",
        "    val_accuracy = []\n",
        "\n",
        "    # train the model for the number of epochs\n",
        "    # each epoch demonstrates the number of times we will go through the whole dataset\n",
        "    for epoch in range(n_epochs):\n",
        "        \n",
        "        # training phase\n",
        "        epoch_train_loss = 0\n",
        "        epoch_train_accuracy = 0\n",
        "        \n",
        "        # switch to behave differently for train and inference (i.e., Dropout)\n",
        "        model.train()\n",
        "        # training phase for each mini-batch\n",
        "        for train_message, train_label in train_dataloader:\n",
        "            # id representation of each token in the input sequence\n",
        "            input_id = train_message['input_ids'].squeeze(1).to(device)\n",
        "            # determine if a token is a real word or just padding (padding 0, otherwise 1)\n",
        "            attention_mask = train_message['attention_mask'].to(device)\n",
        "            # category label of the input\n",
        "            train_label = train_label.to(device)\n",
        "            \n",
        "            # based on the input sequence and the model, compute the output\n",
        "            output = model(input_id, attention_mask)\n",
        "            \n",
        "            # based on the assigned loss, compute the distance between current output of the model with its true output, that is given in the dataset\n",
        "            cur_loss = criterion(output, train_label.unsqueeze(1).float())\n",
        "            epoch_train_loss += cur_loss.item()\n",
        "            \n",
        "            # compute how the model accurately predicts the output\n",
        "            cur_accuracy = binary_accuracy(output, train_label.unsqueeze(1))\n",
        "            epoch_train_accuracy += cur_accuracy.item()\n",
        "            \n",
        "            # making sure all the gradients are zero\n",
        "            # if not, the model will accumulate all the gradients on each call of the loss.backward()\n",
        "            model.zero_grad()\n",
        "            # compute the derivative of loss for each parameter and accumulate to the gradient\n",
        "            # store the gradient tensors\n",
        "            cur_loss.backward()\n",
        "            # update the value of the weights of the features\n",
        "            optimizer.step()\n",
        "\n",
        "        train_loss.append(epoch_train_loss / len(train_data))\n",
        "        train_accuracy.append(epoch_train_accuracy / len(train_data))\n",
        "            \n",
        "        # validation phase\n",
        "        epoch_val_loss = 0\n",
        "        epoch_val_accuracy = 0\n",
        "        \n",
        "        # switch to behave differently for train and inference (i.e., Dropout)\n",
        "        model.eval()\n",
        "        # evaluation does not need computing the gradients\n",
        "        with torch.no_grad():\n",
        "            # the following steps are like the ones in training\n",
        "            # except there is no need to compute the gradients and updating the weights of the features\n",
        "            for val_message, val_label in val_dataloader:\n",
        "                input_id = val_message['input_ids'].squeeze(1).to(device)\n",
        "                attention_mask = val_message['attention_mask'].to(device)\n",
        "                val_label = val_label.to(device)\n",
        "                \n",
        "                output = model(input_id, attention_mask)\n",
        "                \n",
        "                cur_loss = criterion(output, val_label.unsqueeze(1).float())\n",
        "                epoch_val_loss += cur_loss.item()\n",
        "                \n",
        "                cur_accuracy = binary_accuracy(output, val_label.unsqueeze(1))\n",
        "                epoch_val_accuracy += cur_accuracy.item()\n",
        "                \n",
        "        val_loss.append(epoch_val_loss / len(val_data))\n",
        "        val_accuracy.append(epoch_val_accuracy / len(val_data))\n",
        "        \n",
        "        print('Epoch: ', epoch+1, ' | Train Loss: ', epoch_train_loss / len(train_data),\n",
        "              ' | Train Accuracy: ', epoch_train_accuracy / len(train_data), \n",
        "              ' | Val Loss: ', epoch_val_loss / len(val_data),\n",
        "              ' | Val Accuracy: ', epoch_val_accuracy / len(val_data))\n",
        "        \n",
        "    print('train_loss: ', train_loss)\n",
        "    print('val_loss: ', val_loss)\n",
        "    print('train_accuracy: ', train_accuracy)\n",
        "    print('val_accuracy: ', val_accuracy)\n",
        "        \n",
        "\n",
        "# number of epochs that the model should go through the whole dataset        \n",
        "n_epochs = 10\n",
        "model = binary_classifier(0.5)\n",
        "# the learning rate of the features' weights\n",
        "learning_rate = 1e-7\n",
        "\n",
        "train(model, df_train, df_val, learning_rate, n_epochs)\n",
        "        \n",
        "            "
      ],
      "metadata": {
        "colab": {
          "base_uri": "https://localhost:8080/"
        },
        "id": "xM13pldlGix4",
        "outputId": "11c77135-5819-4239-bb72-866335ed4362"
      },
      "execution_count": 218,
      "outputs": [
        {
          "output_type": "stream",
          "name": "stderr",
          "text": [
            "Some weights of the model checkpoint at bert-base-cased were not used when initializing BertModel: ['cls.predictions.decoder.weight', 'cls.predictions.transform.LayerNorm.weight', 'cls.predictions.transform.dense.weight', 'cls.predictions.transform.dense.bias', 'cls.predictions.transform.LayerNorm.bias', 'cls.predictions.bias', 'cls.seq_relationship.bias', 'cls.seq_relationship.weight']\n",
            "- This IS expected if you are initializing BertModel from the checkpoint of a model trained on another task or with another architecture (e.g. initializing a BertForSequenceClassification model from a BertForPreTraining model).\n",
            "- This IS NOT expected if you are initializing BertModel from the checkpoint of a model that you expect to be exactly identical (initializing a BertForSequenceClassification model from a BertForSequenceClassification model).\n"
          ]
        },
        {
          "output_type": "stream",
          "name": "stdout",
          "text": [
            "Epoch:  1  | Train Loss:  0.08699644362886669  | Train Accuracy:  0.4947598756190257  | Val Loss:  0.08772194632850742  | Val Accuracy:  0.5373443983402489\n",
            "Epoch:  2  | Train Loss:  0.08594169889769905  | Train Accuracy:  0.5460094437406426  | Val Loss:  0.08649303272552016  | Val Accuracy:  0.7966804979253111\n",
            "Epoch:  3  | Train Loss:  0.07729342777539848  | Train Accuracy:  0.7806057814119544  | Val Loss:  0.07135117220928065  | Val Accuracy:  0.9481327800829875\n",
            "Epoch:  4  | Train Loss:  0.06823708171752772  | Train Accuracy:  0.8930093285730738  | Val Loss:  0.06442372037167371  | Val Accuracy:  0.9585062240663901\n",
            "Epoch:  5  | Train Loss:  0.06217357455537737  | Train Accuracy:  0.9143153288034089  | Val Loss:  0.059645782553308734  | Val Accuracy:  0.9647302904564315\n",
            "Epoch:  6  | Train Loss:  0.057642255222537915  | Train Accuracy:  0.9288264424737994  | Val Loss:  0.05646955364101655  | Val Accuracy:  0.9688796680497925\n",
            "Epoch:  7  | Train Loss:  0.054059997164069076  | Train Accuracy:  0.9428768858689393  | Val Loss:  0.05382900128597046  | Val Accuracy:  0.9730290456431535\n",
            "Epoch:  8  | Train Loss:  0.05201575915724619  | Train Accuracy:  0.9421858804560636  | Val Loss:  0.052092652165048846  | Val Accuracy:  0.975103734439834\n",
            "Epoch:  9  | Train Loss:  0.05017595295239247  | Train Accuracy:  0.9508234481170103  | Val Loss:  0.0507674685281342  | Val Accuracy:  0.9813278008298755\n",
            "Epoch:  10  | Train Loss:  0.04904707130480167  | Train Accuracy:  0.956696994126454  | Val Loss:  0.050473906779932284  | Val Accuracy:  0.9771784232365145\n",
            "train_loss:  [0.08699644362886669, 0.08594169889769905, 0.07729342777539848, 0.06823708171752772, 0.06217357455537737, 0.057642255222537915, 0.054059997164069076, 0.05201575915724619, 0.05017595295239247, 0.04904707130480167]\n",
            "val_loss:  [0.08772194632850742, 0.08649303272552016, 0.07135117220928065, 0.06442372037167371, 0.059645782553308734, 0.05646955364101655, 0.05382900128597046, 0.052092652165048846, 0.0507674685281342, 0.050473906779932284]\n",
            "train_accuracy:  [0.4947598756190257, 0.5460094437406426, 0.7806057814119544, 0.8930093285730738, 0.9143153288034089, 0.9288264424737994, 0.9428768858689393, 0.9421858804560636, 0.9508234481170103, 0.956696994126454]\n",
            "val_accuracy:  [0.5373443983402489, 0.7966804979253111, 0.9481327800829875, 0.9585062240663901, 0.9647302904564315, 0.9688796680497925, 0.9730290456431535, 0.975103734439834, 0.9813278008298755, 0.9771784232365145]\n"
          ]
        }
      ]
    },
    {
      "cell_type": "code",
      "source": [
        "# plotting the train/val loss to observerve the underfitting/overfitting\n",
        "import matplotlib.pyplot as plt\n",
        "\n",
        "# the train/val loss lists generated during training\n",
        "train_loss = [0.08699644362886669, 0.08594169889769905, 0.07729342777539848, 0.06823708171752772, 0.06217357455537737, 0.057642255222537915, 0.054059997164069076, 0.05201575915724619, 0.05017595295239247, 0.04904707130480167]\n",
        "val_loss = [0.08772194632850742, 0.08649303272552016, 0.07135117220928065, 0.06442372037167371, 0.059645782553308734, 0.05646955364101655, 0.05382900128597046, 0.052092652165048846, 0.0507674685281342, 0.050473906779932284]\n",
        "\n",
        "plt.plot(train_loss)\n",
        "plt.plot(val_loss)\n",
        "plt.title('Loss value for each Epoch')\n",
        "plt.xlabel('Epochs')\n",
        "plt.ylabel('Loss')\n",
        "plt.legend(['train_loss', 'val_loss'])"
      ],
      "metadata": {
        "colab": {
          "base_uri": "https://localhost:8080/",
          "height": 313
        },
        "id": "M9GMLNzBPtcH",
        "outputId": "cd3126b2-d38d-42cc-8cdc-aa6a86691f82"
      },
      "execution_count": 220,
      "outputs": [
        {
          "output_type": "execute_result",
          "data": {
            "text/plain": [
              "<matplotlib.legend.Legend at 0x7fb6a31834d0>"
            ]
          },
          "metadata": {},
          "execution_count": 220
        },
        {
          "output_type": "display_data",
          "data": {
            "text/plain": [
              "<Figure size 432x288 with 1 Axes>"
            ],
            "image/png": "[encoded data removed]"
          },
          "metadata": {
            "needs_background": "light"
          }
        }
      ]
    },
    {
      "cell_type": "code",
      "source": [
        "# plotting the train/val accuracy\n",
        "import matplotlib.pyplot as plt\n",
        "\n",
        "# the tran/val accuracy lists generated during training\n",
        "train_accuracy = [0.4947598756190257, 0.5460094437406426, 0.7806057814119544, 0.8930093285730738, 0.9143153288034089, 0.9288264424737994, 0.9428768858689393, 0.9421858804560636, 0.9508234481170103, 0.956696994126454]\n",
        "val_accuracy = [0.5373443983402489, 0.7966804979253111, 0.9481327800829875, 0.9585062240663901, 0.9647302904564315, 0.9688796680497925, 0.9730290456431535, 0.975103734439834, 0.9813278008298755, 0.9771784232365145]\n",
        "\n",
        "plt.plot(train_accuracy)\n",
        "plt.plot(val_accuracy)\n",
        "plt.title('Accuracy for each Epoch')\n",
        "plt.xlabel('Epochs')\n",
        "plt.ylabel('Accuracy')\n",
        "plt.legend(['train_accuracy', 'val_accuracy'])"
      ],
      "metadata": {
        "colab": {
          "base_uri": "https://localhost:8080/",
          "height": 313
        },
        "id": "e4Y6wV2MRy_W",
        "outputId": "9bb41afb-0e23-482c-a390-9415ccb3fed7"
      },
      "execution_count": 221,
      "outputs": [
        {
          "output_type": "execute_result",
          "data": {
            "text/plain": [
              "<matplotlib.legend.Legend at 0x7fb6a331bc50>"
            ]
          },
          "metadata": {},
          "execution_count": 221
        },
        {
          "output_type": "display_data",
          "data": {
            "text/plain": [
              "<Figure size 432x288 with 1 Axes>"
            ],
            "image/png": "[encoded data removed]"
          },
          "metadata": {
            "needs_background": "light"
          }
        }
      ]
    },
    {
      "cell_type": "code",
      "source": [
        ""
      ],
      "metadata": {
        "id": "RKPba4gyR_Lt"
      },
      "execution_count": 221,
      "outputs": []
    },
    {
      "cell_type": "markdown",
      "source": [
        "Evaluating the trained model on test set"
      ],
      "metadata": {
        "id": "5qpwOqjDSDbO"
      }
    },
    {
      "cell_type": "code",
      "source": [
        "def test(model, test_data):\n",
        "    # all the steps are like before\n",
        "    test_data = dataset(test_data)\n",
        "    \n",
        "    # iterate over the dataset\n",
        "    test_dataloader = data.DataLoader(test_data, batch_size = 8)\n",
        "    \n",
        "    device = torch.device('cuda' if torch.cuda.is_available() else 'cpu')\n",
        "    \n",
        "    if torch.cuda.is_available():\n",
        "        model = model.cuda()\n",
        "        \n",
        "    total_test_accuracy = 0\n",
        "    \n",
        "    # switch to behave differently during train and inference\n",
        "    model.eval()\n",
        "    with torch.no_grad():\n",
        "        for test_message, test_label in test_dataloader:\n",
        "            input_id = test_message['input_ids'].squeeze(1).to(device)\n",
        "            attention_mask = test_message['attention_mask'].to(device)\n",
        "            test_label = test_label.to(device)\n",
        "            \n",
        "            output = model(input_id, attention_mask)\n",
        "            \n",
        "            cur_accuracy = binary_accuracy(output, test_label.unsqueeze(1).float())\n",
        "            total_test_accuracy += cur_accuracy\n",
        "            \n",
        "    print('Test Accuracy: ', total_test_accuracy / len(test_data))\n",
        "    \n",
        "test(model, df_test)\n"
      ],
      "metadata": {
        "colab": {
          "base_uri": "https://localhost:8080/"
        },
        "id": "-X2yoiFMRXRC",
        "outputId": "f326d27f-11a7-4899-85ac-7cad91cadb29"
      },
      "execution_count": 222,
      "outputs": [
        {
          "output_type": "stream",
          "name": "stdout",
          "text": [
            "Test Accuracy:  tensor(0.9772, device='cuda:0')\n"
          ]
        }
      ]
    },
    {
      "cell_type": "code",
      "source": [
        ""
      ],
      "metadata": {
        "id": "94qLUWrkw3xO"
      },
      "execution_count": null,
      "outputs": []
    }
  ]
}